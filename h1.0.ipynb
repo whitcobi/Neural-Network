{
 "cells": [
  {
   "cell_type": "code",
   "execution_count": 3,
   "metadata": {},
   "outputs": [],
   "source": [
    "import numpy as np\n",
    "import pandas as pd"
   ]
  },
  {
   "cell_type": "code",
   "execution_count": 4,
   "metadata": {},
   "outputs": [],
   "source": [
    "import activation\n",
    "class TwoLayerNet:    \n",
    "    \"\"\"    \n",
    "    一个二层的全连接网络 输入层的维度为D, 隐藏层维度为 H, 类别为C类.    \n",
    "       \n",
    "    input - fully connected layer - ReLU - fully connected layer - softmax\n",
    "    第二个全连接层的输出为分数\n",
    "    \"\"\"\n",
    "    def __init__(self, input_size, hidden_size, output_size, std=1e-4): \n",
    "        \"\"\"    \n",
    "         \n",
    "        W1:  (D, H)    \n",
    "        b1:  (H,)    \n",
    "        W2:  (H, C)    \n",
    "        b2:  (C,)  \n",
    "        \"\"\"    \n",
    "        self.params = {}    \n",
    "        self.params['W1'] = std * np.random.randn(hidden_size, input_size)   \n",
    "        self.params['b1'] = np.random.randn(hidden_size, 1)   \n",
    "        self.params['W2'] = std * np.random.randn(output_size, hidden_size)   \n",
    "        self.params['b2'] = np.random.randn(output_size, 1)\n",
    "        self.weights = [np.array([0])] + [self.params['W1']]+[self.params['W2']]\n",
    "        self.biases = [np.array([0])] + [self.params['b1']]+[self.params['b2']]\n",
    "        self.nuerons = [np.zeros(bias.shape) for bias in self.biases]\n",
    "        self.linear = [np.zeros(bias.shape) for bias in self.biases]\n",
    "        \n",
    "    def fc_backward(next_dz, W, z):\n",
    "        \"\"\"\n",
    "        全连接层的反向传播\n",
    "        :param next_dz: 下一层的梯度\n",
    "        :param W: 当前层的权重\n",
    "        :param z: 当前层的输出\n",
    "        :return:\n",
    "        \"\"\"\n",
    "        N = z.shape[0]\n",
    "        dz = np.dot(next_dz, W.T)  # 当前层的梯度\n",
    "        dw = np.dot(z.T, next_dz)  # 当前层权重的梯度\n",
    "        db = np.sum(next_dz, axis=0)  # 当前层偏置的梯度, N个样本的梯度求和\n",
    "        return dw / N, db / N, dz\n",
    "\n",
    "    def forward(self,input):\n",
    "        self.nuerons[0] = input\n",
    "        for i in range(1,3):\n",
    "            self.linear[i] = self.weights[i].dot(self.nuerons[i-1]) + self.biases[i]\n",
    "\n",
    "            # 加入激活函数\n",
    "            if i == 2:\n",
    "                self.nuerons[i] = activation.softmax(self.linear[i])\n",
    "            else:\n",
    "                self.nuerons[i] = activation.relu(self.linear[i])\n",
    "        return self.nuerons[2]\n",
    "\n",
    "    def cross_entropy_loss(self,y_predict, y_true):\n",
    "        y_shift = y_predict - np.max(y_predict, axis=-1, keepdims=True)\n",
    "        y_exp = np.exp(y_shift)\n",
    "        y_probability = y_exp / np.sum(y_exp, axis=-1,keepdims=True)\n",
    "        data_loss = np.mean(np.sum(y_true * (-np.log(y_probability)), axis=-1))  # 损失函数\n",
    "        return data_loss,y_probability\n",
    "        \n",
    "    def backward(self, loss_gradient):\n",
    "        nabla_b = [np.zeros(bias.shape) for bias in self.biases]\n",
    "        nabla_w = [np.zeros(weight.shape) for weight in self.weights]\n",
    "\n",
    "        nabla_b[-1] = loss_gradient\n",
    "        nabla_w[-1] = loss_gradient.dot(self.nuerons[-2].transpose())\n",
    "\n",
    "        for layer in range(1, 0, -1):\n",
    "            loss_gradient = np.multiply(\n",
    "                self.weights[layer+1].transpose().dot(loss_gradient),\n",
    "                activation.relu_gradient(self.linear[layer])\n",
    "            )\n",
    "            nabla_b[layer] = loss_gradient\n",
    "            nabla_w[layer] = loss_gradient.dot(self.nuerons[layer-1].transpose())\n",
    "        \n",
    "        return nabla_b, nabla_w\n",
    "\n",
    "    def loss(self, X, y=None, reg=0.0):\n",
    "        \n",
    "        \n",
    "        W1, b1 = self.params['W1'], self.params['b1']\n",
    "        W2, b2 = self.params['W2'], self.params['b2']\n",
    "        N, D = X.shape\n",
    "\n",
    "        # 前向传播\n",
    "        scores = None\n",
    "        h1 = ReLU(np.dot(X, W1) + b1)      # 隐藏层  (N,H)\n",
    "        out = np.dot(h1, W2) + b2          # 输出层  (N,C)\n",
    "        scores = out                       # (N,C)  \n",
    "        if y is None:   \n",
    "            return scores\n",
    "\n",
    "       \n",
    "        scores_max = np.max(scores, axis=1, keepdims=True)    # (N,1)\n",
    "        \n",
    "        exp_scores = np.exp(scores - scores_max)              # (N,C)\n",
    "        # probs = exp_scores / np.sum(exp_scores, axis=1, keepdims=True)    # (N,C)\n",
    "        \n",
    "        probs = exp_scores / np.sum(exp_scores, axis=-1,keepdims=True)\n",
    "        data_loss = -np.mean(np.sum(y * np.log(probs + 1e-5), axis=-1))\n",
    "\n",
    "        # correct_logprobs = -np.log(probs)        # (N,1)\n",
    "        # data_loss = np.sum(correct_logprobs) / N\n",
    "        reg_loss = 0.5 * reg * np.sum(W1*W1) + 0.5 * reg * np.sum(W2*W2)\n",
    "        loss = data_loss + reg_loss\n",
    "\n",
    "        # 反向传播\n",
    "        grads = {}\n",
    "       \n",
    "        dscores = probs                                 # (N,C)\n",
    "        dscores -= 1\n",
    "        dscores /= N\n",
    "    \n",
    "        dW2 = np.dot(h1.T, dscores)                     # (H,C)\n",
    "        db2 = np.sum(dscores, axis=0, keepdims=True)    # (1,C)\n",
    "       \n",
    "        dh1 = np.dot(dscores, W2.T)                     # (N,H)\n",
    "        # ReLu层\n",
    "        dh1[h1 <= 0] = 0\n",
    "        \n",
    "        dW1 = np.dot(X.T, dh1)                          # (D,H)\n",
    "        db1 = np.sum(dh1, axis=0, keepdims=True)        # (1,H)\n",
    "       \n",
    "        dW2 += reg * W2\n",
    "        dW1 += reg * W1\n",
    "        grads['W1'] = dW1\n",
    "        grads['b1'] = db1\n",
    "        grads['W2'] = dW2\n",
    "        grads['b2'] = db2\n",
    "\n",
    "        return loss, grads\n",
    "\n",
    "    \n",
    "\n",
    "    def train(self, X, y, X_val, y_val, learning_rate=1e-3, \n",
    "               learning_rate_decay=0.95, reg=1e-5, mu=0.9, num_epochs=10, \n",
    "               mu_increase=1.0, batch_size=200, verbose=False):   \n",
    "        \"\"\"    \n",
    "        还是使用SGD \n",
    "        Inputs:    \n",
    "        - X:  (N, D)    \n",
    "        - y:(N,) \n",
    "        - X_val:  (N_val, D)     \n",
    "        - y_val:  (N_val,)     \n",
    "        - learning_rate:     \n",
    "        - learning_rate_decay:   学习率衰减因子\n",
    "        - reg:    \n",
    "        - num_iters:    \n",
    "        - batch_size:     \n",
    "        - verbose: boolean; if true print progress during optimization.  \n",
    "        \"\"\"\n",
    "        num_train = len(X)\n",
    "        iterations_per_epoch = max(num_train / batch_size, 1)\n",
    "        \n",
    "        v_W2, v_b2 = 0.0, 0.0\n",
    "        v_W1, v_b1 = 0.0, 0.0\n",
    "        loss_history = []\n",
    "        train_acc_history = []\n",
    "        val_acc_history = []\n",
    "\n",
    "        for it in tqdm(range(1, int(num_epochs * iterations_per_epoch) + 1)):   \n",
    "            X_batch = None   \n",
    "            y_batch = None    \n",
    "               \n",
    "            sample_index = np.random.choice(num_train, batch_size, replace=True)   \n",
    "            X_batch = X[sample_index, :]        # (batch_size,D)    \n",
    "            y_batch = y[sample_index]           # (1,batch_size)   \n",
    "            \n",
    "            loss, grads = self.loss(X_batch, y=y_batch, reg=reg) \n",
    "            loss_history.append(loss)    \n",
    "\n",
    "            # SGD结合向量    \n",
    "            v_W2 = mu * v_W2 - learning_rate * grads['W2']    \n",
    "            self.params['W2'] += v_W2   \n",
    "            v_b2 = mu * v_b2 - learning_rate * grads['b2']    \n",
    "            self.params['b2'] += v_b2   \n",
    "            v_W1 = mu * v_W1 - learning_rate * grads['W1']    \n",
    "            self.params['W1'] += v_W1   \n",
    "            v_b1 = mu * v_b1 - learning_rate * grads['b1']  \n",
    "            self.params['b1'] += v_b1 \n",
    "            # iteration %d / %d: loss %f' % (it, num_iters, loss) \n",
    "         \n",
    "            # 每一个epoch, 检查 train and val 准确率 然后将学习率衰减\n",
    "            #每次取X_batch个数据，每取够X_train的数量为一个epoch，然后将学习率衰减\n",
    "            if verbose and it % iterations_per_epoch == 0:    \n",
    "                res_train = []\n",
    "                res_valid = []\n",
    "                \n",
    "                # for i in range(y_batch.shape[0]):\n",
    "                    \n",
    "                #     epoch = it / iterations_per_epoch    \n",
    "                #     if self.predict(X_batch).tolist()[i] == y_batch.tolist()[i]:\n",
    "                #         res_train.append(1)\n",
    "                #     else:\n",
    "                #         res_train.append(0)\n",
    "                    \n",
    "                #     if self.predict(X_val).tolist()[i] == y_val.tolist()[i]:\n",
    "                #         res_valid.append(1)\n",
    "                #     else:\n",
    "                #         res_valid.append(0)\n",
    "                # train_acc = np.mean(res_train)        \n",
    "                # val_acc = np.mean(res_valid)\n",
    "                print(self.predict(X_batch) == y_batch)\n",
    "                train_acc = (self.predict(X_batch) == y_batch).mean()\n",
    "                val_acc = (self.predict(X_val) == y_val).mean() \n",
    "                train_acc_history.append(train_acc)    \n",
    "                val_acc_history.append(val_acc)    \n",
    "                # print 'epoch %d / %d: loss %f, train_acc: %f, val_acc: %f' % \n",
    "                #                     (epoch, num_epochs, loss, train_acc, val_acc)    \n",
    "                \n",
    "                learning_rate *= learning_rate_decay    \n",
    "                #mu也要变化   \n",
    "                mu *= mu_increase\n",
    "                print(res_train)\n",
    "        return {   \n",
    "            'loss_history': loss_history,   \n",
    "            'train_acc_history': train_acc_history, \n",
    "            'val_acc_history': val_acc_history,},val_acc\n",
    "        \n",
    "\n",
    "    def predict(self, X):    \n",
    "      \n",
    "        y_pred = None    \n",
    "        h1 = ReLU(np.dot(X, self.params['W1']) + self.params['b1'])    \n",
    "        scores = np.dot(h1, self.params['W2']) + self.params['b2']    \n",
    "        y_pred = np.argmax(scores, axis=1)    \n",
    "\n",
    "        return y_pred\n",
    "\n",
    "def ReLU(x):    \n",
    "    return np.maximum(0, x)"
   ]
  },
  {
   "cell_type": "code",
   "execution_count": 5,
   "metadata": {},
   "outputs": [],
   "source": [
    "class SGD:\n",
    "    \n",
    "    def __init__(self, model, learning_rate, weight_decay, batch_size):\n",
    "        self.model = model\n",
    "        self.lr = learning_rate\n",
    "        self.weight_decay = weight_decay\n",
    "        self.batch_size = batch_size\n",
    "\n",
    "        self.nabla_b = [np.zeros(bias.shape) for bias in self.model.biases]\n",
    "        self.nabla_w = [np.zeros(weight.shape) for weight in self.model.weights]\n",
    "\n",
    "    def zero_grad(self):\n",
    "        self.nabla_b = [np.zeros(bias.shape) for bias in self.model.biases]\n",
    "        self.nabla_w = [np.zeros(weight.shape) for weight in self.model.weights]\n",
    "\n",
    "    def update(self, delta_nabla_b, delta_nabla_w):\n",
    "        self.nabla_b = [nb + dnb for nb, dnb in zip(self.nabla_b, delta_nabla_b)]\n",
    "        self.nabla_w = [nw + dnw for nw, dnw in zip(self.nabla_w, delta_nabla_w)]\n",
    "\n",
    "    def step(self):\n",
    "        # 参数更新\n",
    "        # 使用batch gradient descent，因此学习率要除以batch_size\n",
    "        self.model.weights = [(1 - self.lr * self.weight_decay) * w - (self.lr / self.batch_size) * dw for w, dw in zip(self.model.weights, self.nabla_w)]\n",
    "        self.model.biases = [(1 - self.lr * self.weight_decay) * b - (self.lr / self.batch_size) * db for b, db in zip(self.model.biases, self.nabla_b)]"
   ]
  },
  {
   "cell_type": "code",
   "execution_count": 6,
   "metadata": {},
   "outputs": [
    {
     "name": "stderr",
     "output_type": "stream",
     "text": [
      "C:\\Users\\chuch\\AppData\\Local\\Temp\\ipykernel_54924\\1606908391.py:2: DeprecationWarning: the imp module is deprecated in favour of importlib; see the module's documentation for alternative uses\n",
      "  from imp import reload\n"
     ]
    }
   ],
   "source": [
    "from utils import load_mnist_datasets\n",
    "from imp import reload\n",
    "train_data,val_data,test_data = load_mnist_datasets('data/mnist.pkl.gz')\n"
   ]
  },
  {
   "cell_type": "code",
   "execution_count": 9,
   "metadata": {},
   "outputs": [],
   "source": [
    "import random\n",
    "import os\n",
    "def train_reset(net, optimizer, train_data, val_data, epochs):\n",
    "    best_accuracy = 0\n",
    "    train_losses = []\n",
    "    validate_losses = []\n",
    "    accuracies = []\n",
    "    for epoch in range(epochs):\n",
    "        # validate\n",
    "        validate_loss = 0\n",
    "        res = []\n",
    "        for input, label in val_data:\n",
    "            output = net.forward(input)\n",
    "            validate_loss += np.where(label==1, -np.log(output), 0).sum()\n",
    "            res.append(np.argmax(output) == np.argmax(label))\n",
    "        validate_loss /= len(val_data)\n",
    "        validate_losses.append(validate_loss)\n",
    "        accuracy = sum(res) / 100.0\n",
    "        accuracies.append(accuracy)\n",
    "        # train\n",
    "        random.shuffle(train_data)\n",
    "        batches = [train_data[k:k+optimizer.batch_size] for k in range(0, len(train_data), optimizer.batch_size)]\n",
    "        train_loss = 0\n",
    "        for batch in batches:\n",
    "            optimizer.zero_grad()\n",
    "            for input, label in batch:\n",
    "                output = net.forward(input)\n",
    "                # loss为交叉熵损失函数\n",
    "                train_loss  += np.where(label==1, -np.log(output), 0).sum()\n",
    "                # cross entropy loss + softmax 的导数\n",
    "                loss_gradient = output - label\n",
    "                delta_nabla_b, delta_nabla_w = net.backward(loss_gradient)\n",
    "                optimizer.update(delta_nabla_b, delta_nabla_w)\n",
    "            optimizer.step()\n",
    "        train_loss /= len(train_data)\n",
    "        train_losses.append(train_loss)\n",
    "        # save best model\n",
    "        if accuracy > best_accuracy:\n",
    "            best_accuracy = accuracy\n",
    "            with open(os.path.join(\"models\",f\"lr{optimizer.lr}_weight_decay{optimizer.weight_decay}.npz\"),\"w\",encoding=\"utf-8\") as f:\n",
    "                f.write(f\"net.weights:{net.weights},net.biases:{net.biases},net.linear:{net.linear},net.nuerons:{net.nuerons}\")\n",
    "            # net.save(f\"model_{net.sizes[1]}_{optimizer.lr}_{optimizer.weight_decay}.npz\")\n",
    "        print(f\"Epoch {epoch+1}, accuracy {accuracy} %.\")\n",
    "    # save log\n",
    "    data = {\n",
    "        \"train_loss\": train_losses,\n",
    "        \"val_loss\": validate_losses,\n",
    "        \"val_acc\": accuracies\n",
    "    }\n",
    "    # pd.DataFrame(data).to_csv(f'logs/log_{model.sizes[1]}_{optimizer.lr}_{optimizer.weight_decay}.csv',)\n",
    "    return best_accuracy,data"
   ]
  },
  {
   "cell_type": "code",
   "execution_count": 40,
   "metadata": {},
   "outputs": [
    {
     "name": "stderr",
     "output_type": "stream",
     "text": [
      "  0%|          | 0/3 [00:00<?, ?it/s]"
     ]
    },
    {
     "name": "stdout",
     "output_type": "stream",
     "text": [
      "Epoch 1, accuracy 9.67 %.\n",
      "Epoch 2, accuracy 39.39 %.\n",
      "Epoch 3, accuracy 84.79 %.\n",
      "Epoch 4, accuracy 88.88 %.\n",
      "Epoch 5, accuracy 90.26 %.\n",
      "Epoch 6, accuracy 91.22 %.\n",
      "Epoch 7, accuracy 91.89 %.\n"
     ]
    }
   ],
   "source": [
    "#使用验证集进行调参 将最好的模型存储到best_net\n",
    "import utils\n",
    "from tqdm import tqdm\n",
    "\n",
    "input_size = 28 * 28 \n",
    "hidden_size = 50\n",
    "num_classes = 10\n",
    "\n",
    "results = {}\n",
    "best_val = -1\n",
    "best_net = None\n",
    "\n",
    "learning_rates = [5e-3, 1e-2, 2e-2]\n",
    "weight_decay = [0.001,0.01,0.1]\n",
    "epochs = 30\n",
    "batch_size = 16\n",
    "\n",
    "for j in tqdm(range(len(learning_rates))):\n",
    "    lr = learning_rates[j]\n",
    "    for reg in weight_decay:\n",
    "        net = TwoLayerNet(input_size, hidden_size, num_classes)\n",
    "        optimizer = SGD(net, lr, reg, batch_size)\n",
    "        # 训练train_data\n",
    "        val_acc,data = train_reset(net, optimizer, train_data, val_data, epochs)\n",
    "        \n",
    "        if val_acc > best_val:\n",
    "            best_val = val_acc\n",
    "            best_net = net\n",
    "            result_loss_acc = data\n",
    "        results[(lr,reg)] = val_acc\n",
    "\n",
    "# 打印结果\n",
    "for lr, reg in sorted(results):\n",
    "    val_acc = results[(lr, reg)]\n",
    "    print('lr %e reg %e val accuracy: %f' % (\n",
    "                lr, reg,  val_acc))\n",
    "    \n",
    "print('best validation accuracy achieved during cross-validation: %f' % best_val)"
   ]
  },
  {
   "cell_type": "code",
   "execution_count": null,
   "metadata": {},
   "outputs": [
    {
     "name": "stdout",
     "output_type": "stream",
     "text": [
      "test accuracy: 0.9653 %\n"
     ]
    }
   ],
   "source": [
    "# test\n",
    "model = best_net\n",
    "record = []\n",
    "for data,label in test_data:\n",
    "    output = model.forward(data)\n",
    "    record.append(np.argmax(output) == np.argmax(label))\n",
    "test_accuracy = sum(record) / len(record)\n",
    "print(f\"test accuracy: {test_accuracy} %\")"
   ]
  },
  {
   "cell_type": "code",
   "execution_count": null,
   "metadata": {},
   "outputs": [],
   "source": [
    "result_loss_acc1 = pd.DataFrame(result_loss_acc)"
   ]
  },
  {
   "cell_type": "code",
   "execution_count": null,
   "metadata": {},
   "outputs": [
    {
     "data": {
      "image/png": "[encoded data removed]",
      "text/plain": [
       "<Figure size 432x288 with 1 Axes>"
      ]
     },
     "metadata": {
      "needs_background": "light"
     },
     "output_type": "display_data"
    }
   ],
   "source": [
    "# visualization\n",
    "# 可视化loss曲线\n",
    "import matplotlib.pyplot as plt\n",
    "result_loss_acc1[['train_loss']].plot(title='train loss')\n",
    "plt.xlabel(\"epoch\")\n",
    "plt.ylabel(\"loss\")\n",
    "plt.savefig(\"visual/train_loss.png\")\n",
    "plt.show()\n",
    "plt.close()"
   ]
  },
  {
   "cell_type": "code",
   "execution_count": null,
   "metadata": {},
   "outputs": [
    {
     "data": {
      "image/png": "[encoded data removed]",
      "text/plain": [
       "<Figure size 432x288 with 1 Axes>"
      ]
     },
     "metadata": {
      "needs_background": "light"
     },
     "output_type": "display_data"
    }
   ],
   "source": [
    "result_loss_acc1[['val_loss']].plot(title='valid loss')\n",
    "plt.xlabel(\"epoch\")\n",
    "plt.ylabel(\"loss\")\n",
    "plt.savefig(\"visual/train_loss.png\")\n",
    "plt.show()\n",
    "plt.close()"
   ]
  },
  {
   "cell_type": "code",
   "execution_count": null,
   "metadata": {},
   "outputs": [
    {
     "data": {
      "image/png": "[encoded data removed]",
      "text/plain": [
       "<Figure size 432x288 with 1 Axes>"
      ]
     },
     "metadata": {
      "needs_background": "light"
     },
     "output_type": "display_data"
    }
   ],
   "source": [
    "#可视化accuracy\n",
    "result_loss_acc1[['val_acc']].plot(title='valid accuracy')\n",
    "plt.xlabel(\"epoch\")\n",
    "plt.ylabel(\"accuracy\")\n",
    "plt.savefig(\"visual/accuracy.png\")\n",
    "plt.show()\n",
    "plt.close()"
   ]
  },
  {
   "cell_type": "code",
   "execution_count": null,
   "metadata": {},
   "outputs": [
    {
     "data": {
      "image/png": "[encoded data removed]",
      "text/plain": [
       "<Figure size 432x288 with 1 Axes>"
      ]
     },
     "metadata": {
      "needs_background": "light"
     },
     "output_type": "display_data"
    }
   ],
   "source": [
    "plt.hist(net.params['W1'].flatten().tolist(), bins=20)\n",
    "plt.title(\"layer1 weights\")\n",
    "plt.xlabel(\"weight\")\n",
    "plt.ylabel(\"frequency\")\n",
    "plt.savefig(\"visual/layer1_weights.png\")\n",
    "plt.show()\n",
    "plt.close()"
   ]
  },
  {
   "cell_type": "code",
   "execution_count": null,
   "metadata": {},
   "outputs": [
    {
     "data": {
      "image/png": "[encoded data removed]",
      "text/plain": [
       "<Figure size 432x288 with 1 Axes>"
      ]
     },
     "metadata": {
      "needs_background": "light"
     },
     "output_type": "display_data"
    }
   ],
   "source": [
    "plt.hist(net.params['W2'].flatten().tolist(), bins=20)\n",
    "plt.title(\"layer2 weights\")\n",
    "plt.xlabel(\"weight\")\n",
    "plt.ylabel(\"frequency\")\n",
    "plt.savefig(\"visual/layer2_weights.png\")\n",
    "plt.show()\n",
    "plt.close()"
   ]
  },
  {
   "cell_type": "code",
   "execution_count": null,
   "metadata": {},
   "outputs": [
    {
     "data": {
      "image/png": "[encoded data removed]",
      "text/plain": [
       "<Figure size 432x288 with 1 Axes>"
      ]
     },
     "metadata": {
      "needs_background": "light"
     },
     "output_type": "display_data"
    }
   ],
   "source": [
    "plt.hist(net.params['b1'].flatten().tolist(), bins=20)\n",
    "plt.title(\"layer1 biases\")\n",
    "plt.xlabel(\"biases\")\n",
    "plt.ylabel(\"frequency\")\n",
    "plt.savefig(\"visual/layer1_weights.png\")\n",
    "plt.show()\n",
    "plt.close()"
   ]
  },
  {
   "cell_type": "code",
   "execution_count": null,
   "metadata": {},
   "outputs": [
    {
     "data": {
      "image/png": "[encoded data removed]",
      "text/plain": [
       "<Figure size 432x288 with 1 Axes>"
      ]
     },
     "metadata": {
      "needs_background": "light"
     },
     "output_type": "display_data"
    }
   ],
   "source": [
    "plt.hist(net.params['b2'].flatten().tolist(), bins=20)\n",
    "plt.title(\"layer2 biases\")\n",
    "plt.xlabel(\"biases\")\n",
    "plt.ylabel(\"frequency\")\n",
    "plt.savefig(\"visual/layer1_weights.png\")\n",
    "plt.show()\n",
    "plt.close()"
   ]
  }
 ],
 "metadata": {
  "interpreter": {
   "hash": "5b264bd2d4a52a11d8430e80e895821649194a599723173f8bcc35096c976a70"
  },
  "kernelspec": {
   "display_name": "Python 3.8.12 ('tf-gpu')",
   "language": "python",
   "name": "python3"
  },
  "language_info": {
   "codemirror_mode": {
    "name": "ipython",
    "version": 3
   },
   "file_extension": ".py",
   "mimetype": "text/x-python",
   "name": "python",
   "nbconvert_exporter": "python",
   "pygments_lexer": "ipython3",
   "version": "3.8.12"
  },
  "orig_nbformat": 4
 },
 "nbformat": 4,
 "nbformat_minor": 2
}
